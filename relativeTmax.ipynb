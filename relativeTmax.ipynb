{
 "cells": [
  {
   "cell_type": "code",
   "execution_count": 306,
   "metadata": {},
   "outputs": [
    {
     "data": {
      "text/plain": [
       "<matplotlib.collections.PolyCollection at 0x11cfec110>"
      ]
     },
     "execution_count": 306,
     "metadata": {},
     "output_type": "execute_result"
    },
    {
     "data": {
      "image/png": "[encoded data removed]",
      "text/plain": [
       "<Figure size 432x288 with 1 Axes>"
      ]
     },
     "metadata": {
      "needs_background": "light"
     },
     "output_type": "display_data"
    }
   ],
   "source": [
    "import matplotlib.pyplot as plt\n",
    "import numpy as np\n",
    "import numpy as np\n",
    "   \n",
    "    \n",
    "class Utils:\n",
    "    def __init__(self, x=0):\n",
    "        self.x = x     \n",
    "        \n",
    "    def f(self, x):\n",
    "        self.x = x\n",
    "        return self.x   \n",
    "    \n",
    "    def g(self, x):\n",
    "        self.x = (pow(x,2))\n",
    "        return self.x\n",
    "    \n",
    "    @staticmethod\n",
    "    def calculate_E(f, g): \n",
    "        return f-g\n",
    "    \n",
    "      \n",
    "class InterestUtils:\n",
    "    def __init__(self, r, t):\n",
    "        self.r = r\n",
    "        self.t = t\n",
    "    def getSimpleInterest(self):\n",
    "        return float((1+(self.r * self.t)/100))\n",
    "    def getCompoundInterest(self):\n",
    "        return float(pow((1+ (self.r / 100)), self.t))\n",
    "        \n",
    "\n",
    "functions = Utils()\n",
    "def tMax(rate, time): \n",
    "    values = InterestUtils(rate,time)    \n",
    "    E = functions.calculate_E(values.getSimpleInterest(), values.getCompoundInterest())\n",
    "    T = np.linspace(1, E, time)\n",
    "    return T\n",
    "\n",
    "\n",
    "\n",
    "plt.plot(tMax(7,5), functions.f(tMax(7,5)))\n",
    "plt.plot(tMax(7,5), functions.g(tMax(7,5)))\n",
    "plt.fill_between(tMax(7,5), functions.g(tMax(7,5)), functions.f(tMax(7,5)), color = \"black\",alpha = 0.4, hatch = '|')\n",
    "\n"
   ]
  },
  {
   "cell_type": "code",
   "execution_count": null,
   "metadata": {},
   "outputs": [],
   "source": []
  },
  {
   "cell_type": "code",
   "execution_count": null,
   "metadata": {},
   "outputs": [],
   "source": []
  },
  {
   "cell_type": "code",
   "execution_count": null,
   "metadata": {},
   "outputs": [],
   "source": []
  }
 ],
 "metadata": {
  "file_extension": ".py",
  "kernelspec": {
   "display_name": "Python 3",
   "language": "python",
   "name": "python3"
  },
  "language_info": {
   "codemirror_mode": {
    "name": "ipython",
    "version": 3
   },
   "file_extension": ".py",
   "mimetype": "text/x-python",
   "name": "python",
   "nbconvert_exporter": "python",
   "pygments_lexer": "ipython3",
   "version": "3.7.4"
  },
  "mimetype": "text/x-python",
  "name": "python",
  "npconvert_exporter": "python",
  "pygments_lexer": "ipython3",
  "version": 3
 },
 "nbformat": 4,
 "nbformat_minor": 2
}
