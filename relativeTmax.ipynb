{
 "cells": [
  {
   "cell_type": "code",
   "execution_count": 433,
   "metadata": {},
   "outputs": [
    {
     "data": {
      "image/png": "[encoded data removed]",
      "text/plain": [
       "<Figure size 432x288 with 1 Axes>"
      ]
     },
     "metadata": {
      "needs_background": "light"
     },
     "output_type": "display_data"
    }
   ],
   "source": [
    "import matplotlib.pyplot as plt\n",
    "import numpy as np\n",
    "import numpy as np\n",
    "\n",
    "        \n",
    "    \n",
    "r, t = 7, 8\n",
    "localMaxima=[]\n",
    "    \n",
    "def getSimpleInterest():\n",
    "    result = float(1+(r*t) / 100)\n",
    "    return result\n",
    "\n",
    "def getCompoundInterest():\n",
    "    result = float(pow((1 + (r/100)), t))\n",
    "    return result\n",
    "\n",
    "def getTMax():\n",
    "    E = getSimpleInterest() - getCompoundInterest()\n",
    "    return E\n",
    "\n",
    "def f(x):\n",
    "    return x\n",
    "\n",
    "def g(x):\n",
    "    return x**2\n",
    "\n",
    "\n",
    "\n",
    "\n",
    "\n",
    "try:\n",
    "    timeArr = np.linspace(1,getTMax(), t)\n",
    "    \n",
    "    \n",
    "#     if np.array(timeArr).item(len(timeArr)-1) == getTMax(): \n",
    "#         localMaxima.append(np.array(timeArr).item(len(timeArr)-1))\n",
    "#     else:\n",
    "#         print(False)\n",
    "          \n",
    "    plt.plot(timeArr,f(timeArr))\n",
    "    plt.plot(timeArr,g(timeArr))\n",
    "\n",
    "    plt.fill_between(timeArr, g(timeArr),  f(timeArr), color = \"black\",alpha = 0.4, hatch = '|')\n",
    "    plt.fill_between(timeArr, g(timeArr), color = \"black\", alpha = 0.2, hatch = '|') \n",
    "    \n",
    "              \n",
    "except AttributeError as e:\n",
    "    print('invalid number', e)\n",
    "\n",
    "\n",
    "\n",
    "\n"
   ]
  },
  {
   "cell_type": "code",
   "execution_count": 434,
   "metadata": {},
   "outputs": [
    {
     "name": "stdout",
     "output_type": "stream",
     "text": [
      "<function getTMax at 0x11f70f830>\n"
     ]
    },
    {
     "data": {
      "image/png": "[encoded data removed]",
      "text/plain": [
       "<Figure size 432x288 with 1 Axes>"
      ]
     },
     "metadata": {
      "needs_background": "light"
     },
     "output_type": "display_data"
    }
   ],
   "source": [
    "plt.plot(getTMax(), 'o')\n",
    "print(getTMax)"
   ]
  },
  {
   "cell_type": "code",
   "execution_count": 435,
   "metadata": {},
   "outputs": [],
   "source": [
    "\n",
    "class graphUtils:\n",
    "    def __init__(self, x):\n",
    "        self.x = x\n",
    "    \n",
    "    def f(x):\n",
    "        return self.x\n",
    "\n",
    "    def g(x):\n",
    "        return self.x**2\n",
    "\n",
    "class DeltaTmax():\n",
    "    def __init__(self, r, t, localMaxima=[]):\n",
    "        self.r = r\n",
    "        self.t = t\n",
    "        self.localMaxima\n",
    "    \n",
    "    def getSimpleInterest():\n",
    "        result = float(1+(r*t) / 100)\n",
    "        return result\n",
    "\n",
    "    def getCompoundInterest():\n",
    "        result = float(pow((1 + (r/100)), t))\n",
    "        return result\n",
    "\n",
    "    def getTMax():\n",
    "        E = getSimpleInterest() - getCompoundInterest()\n",
    "        return E\n",
    "    \n",
    "# def main():\n",
    "    \n",
    "#     try:\n",
    "#     timeArr = np.linspace(1,getTMax(), t)\n",
    "    \n",
    "    \n",
    "#     if np.array(timeArr).item(len(timeArr)-1) == getTMax(): \n",
    "#         localMaxima.append(np.array(timeArr).item(len(timeArr)-1))\n",
    "#     else:\n",
    "#         print(False)\n",
    "          \n",
    "#     plt.plot(timeArr,f(timeArr))\n",
    "#     plt.plot(timeArr,g(timeArr))\n",
    "\n",
    "#     plt.fill_between(timeArr, g(timeArr),  f(timeArr), color = \"black\",alpha = 0.4, hatch = '|')\n",
    "#     plt.fill_between(timeArr, g(timeArr), color = \"black\", alpha = 0.2, hatch = '|') \n",
    "    \n",
    "              \n",
    "# except AttributeError as e:\n",
    "#     print('invalid number', e)\n",
    "\n",
    "    \n",
    "# main()    "
   ]
  },
  {
   "cell_type": "code",
   "execution_count": null,
   "metadata": {},
   "outputs": [],
   "source": []
  }
 ],
 "metadata": {
  "kernelspec": {
   "display_name": "Python 3",
   "language": "python",
   "name": "python3"
  },
  "language_info": {
   "codemirror_mode": {
    "name": "ipython",
    "version": 3
   },
   "file_extension": ".py",
   "mimetype": "text/x-python",
   "name": "python",
   "nbconvert_exporter": "python",
   "pygments_lexer": "ipython3",
   "version": "3.7.4"
  }
 },
 "nbformat": 4,
 "nbformat_minor": 2
}
